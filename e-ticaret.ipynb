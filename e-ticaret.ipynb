{
 "cells": [
  {
   "cell_type": "code",
   "execution_count": 45,
   "id": "6b5df20d-0e2d-4a4f-b169-b21210cd868d",
   "metadata": {},
   "outputs": [
    {
     "name": "stdout",
     "output_type": "stream",
     "text": [
      "sales_data.csv dosyası oluşturuldu!\n"
     ]
    }
   ],
   "source": [
    "import pandas as pd\n",
    "import numpy as np\n",
    "from datetime import datetime, timedelta\n",
    "import random\n",
    "\n",
    "np.random.seed(42)\n",
    "random.seed(42)\n",
    "\n",
    "products = [\n",
    "    (\"Laptop\", \"Elektronik\", 800),\n",
    "    (\"Mouse\", \"Elektronik\", 25),\n",
    "    (\"Klavye\", \"Elektronik\", 50),\n",
    "    (\"Kulaklık\", \"Elektronik\", 100),\n",
    "    (\"Telefon\", \"Elektronik\", 600),\n",
    "    (\"Kitap\", \"Kırtasiye\", 15),\n",
    "    (\"Defter\", \"Kırtasiye\", 5),\n",
    "    (\"Kalem\", \"Kırtasiye\", 2),\n",
    "    (\"Kahve Makinesi\", \"Mutfak\", 150),\n",
    "    (\"Blender\", \"Mutfak\", 120)\n",
    "]\n",
    "\n",
    "customer_segments = [\"Bireysel\", \"Kurumsal\", \"Premium\"]\n",
    "\n",
    "num_orders = 1000\n",
    "order_ids = np.arange(1, num_orders + 1)\n",
    "order_dates = [datetime(2023, 1, 1) + timedelta(days=random.randint(0, 364)) for _ in range(num_orders)]\n",
    "customer_ids = np.random.randint(1000, 2000, num_orders)\n",
    "product_choices = [random.choice(products) for _ in range(num_orders)]\n",
    "categories = [p[1] for p in product_choices]\n",
    "product_names = [p[0] for p in product_choices]\n",
    "prices = [p[2] for p in product_choices]\n",
    "quantities = np.random.randint(1, 5, num_orders)\n",
    "total_sales = [prices[i] * quantities[i] for i in range(num_orders)]\n",
    "customer_segments_list = [random.choice(customer_segments) for _ in range(num_orders)]\n",
    "\n",
    "df = pd.DataFrame({\n",
    "    \"Order_ID\": order_ids,\n",
    "    \"Order_Date\": order_dates,\n",
    "    \"Customer_ID\": customer_ids,\n",
    "    \"Product_Name\": product_names,\n",
    "    \"Category\": categories,\n",
    "    \"Price\": prices,\n",
    "    \"Quantity\": quantities,\n",
    "    \"Total_Sales\": total_sales,\n",
    "    \"Customer_Segment\": customer_segments_list\n",
    "})\n",
    "\n",
    "\n",
    "df.to_csv(\"sales_data.csv\", index=False)\n",
    "print(\"sales_data.csv dosyası oluşturuldu!\")\n"
   ]
  },
  {
   "cell_type": "code",
   "execution_count": 47,
   "id": "a8cf53c7-3c08-4f86-9d9d-dd7f4c1abda9",
   "metadata": {},
   "outputs": [],
   "source": [
    "import pandas as pd\n",
    "import sqlite3\n",
    "\n",
    "df = pd.read_csv('C://Users//MONSTER//Desktop//sales_data.csv', encoding='ISO-8859-1')  \n",
    "\n",
    "conn = sqlite3.connect('sales_data.db')  \n",
    "\n",
    "df.to_sql('sales_data', conn, if_exists='replace', index=False)\n",
    "\n",
    "conn.commit()\n",
    "\n",
    "conn.close()\n"
   ]
  },
  {
   "cell_type": "code",
   "execution_count": 49,
   "id": "2ff75f2f-54f3-4687-ac17-94b2f9bb9812",
   "metadata": {},
   "outputs": [
    {
     "name": "stdout",
     "output_type": "stream",
     "text": [
      "   Order_ID  Order_Date  Customer_ID    Product_Name    Category  Price  \\\n",
      "0         1  2023-11-24         1102  Kahve Makinesi      Mutfak    150   \n",
      "1         2  2023-02-27         1435        Kulaklýk  Elektronik    100   \n",
      "2         3  2023-01-13         1860          Klavye  Elektronik     50   \n",
      "3         4  2023-05-21         1270         Telefon  Elektronik    600   \n",
      "4         5  2023-05-06         1106          Klavye  Elektronik     50   \n",
      "5         6  2023-04-25         1071           Mouse  Elektronik     25   \n",
      "6         7  2023-03-13         1700          Laptop  Elektronik    800   \n",
      "7         8  2023-02-22         1020          Klavye  Elektronik     50   \n",
      "8         9  2023-12-13         1614         Telefon  Elektronik    600   \n",
      "9        10  2023-10-07         1121         Blender      Mutfak    120   \n",
      "\n",
      "   Quantity  Total_Sales Customer_Segment  \n",
      "0         1          150         Kurumsal  \n",
      "1         1          100         Kurumsal  \n",
      "2         3          150          Premium  \n",
      "3         4         2400         Bireysel  \n",
      "4         1           50          Premium  \n",
      "5         2           50         Bireysel  \n",
      "6         1          800          Premium  \n",
      "7         2          100         Kurumsal  \n",
      "8         4         2400         Kurumsal  \n",
      "9         3          360         Kurumsal  \n"
     ]
    }
   ],
   "source": [
    "conn = sqlite3.connect('sales_data.db')\n",
    "\n",
    "query = \"SELECT * FROM sales_data LIMIT 10;\"\n",
    "df_result = pd.read_sql(query, conn)\n",
    "\n",
    "print(df_result)\n",
    "\n",
    "conn.close()\n"
   ]
  },
  {
   "cell_type": "code",
   "execution_count": 51,
   "id": "aabddb56-8895-46f4-9bf2-b2b99ef31bf2",
   "metadata": {},
   "outputs": [
    {
     "name": "stdout",
     "output_type": "stream",
     "text": [
      "Toplam Satışlar: 435118\n"
     ]
    }
   ],
   "source": [
    "conn = sqlite3.connect('sales_data.db')\n",
    "\n",
    "query = \"\"\"\n",
    "    SELECT SUM(Price * Quantity) AS total_sales\n",
    "    FROM sales_data;\n",
    "\"\"\"\n",
    "total_sales = pd.read_sql(query, conn)\n",
    "print(\"Toplam Satışlar:\", total_sales['total_sales'][0])\n",
    "\n",
    "conn.close()\n"
   ]
  },
  {
   "cell_type": "code",
   "execution_count": 53,
   "id": "9656b47c-bcc0-40c3-b216-fad546c6c0ac",
   "metadata": {},
   "outputs": [
    {
     "name": "stdout",
     "output_type": "stream",
     "text": [
      "     Product_Name  total_sales\n",
      "0          Laptop       184800\n",
      "1         Telefon       144600\n",
      "2  Kahve Makinesi        35400\n",
      "3         Blender        27480\n",
      "4        Kulaklýk        18200\n",
      "5          Klavye        12200\n",
      "6           Mouse         6550\n",
      "7           Kitap         4065\n",
      "8          Defter         1275\n",
      "9           Kalem          548\n"
     ]
    }
   ],
   "source": [
    "conn = sqlite3.connect('sales_data.db')\n",
    "\n",
    "query = \"\"\"\n",
    "    SELECT Product_Name, SUM(Price * Quantity) AS total_sales\n",
    "    FROM sales_data\n",
    "    GROUP BY Product_Name\n",
    "    ORDER BY total_sales DESC;\n",
    "\"\"\"\n",
    "product_sales = pd.read_sql(query, conn)\n",
    "print(product_sales)\n",
    "\n",
    "conn.close()\n"
   ]
  },
  {
   "cell_type": "code",
   "execution_count": 55,
   "id": "654aa381-52f3-42fc-9fd5-3dd5c28f943c",
   "metadata": {},
   "outputs": [
    {
     "name": "stdout",
     "output_type": "stream",
     "text": [
      "     Product_Name  total_sales\n",
      "0         Blender        27480\n",
      "1          Defter         1275\n",
      "2  Kahve Makinesi        35400\n",
      "3           Kalem          548\n",
      "4           Kitap         4065\n",
      "5          Klavye        12200\n",
      "6        Kulaklýk        18200\n",
      "7          Laptop       184800\n",
      "8           Mouse         6550\n",
      "9         Telefon       144600\n"
     ]
    }
   ],
   "source": [
    "conn = sqlite3.connect('sales_data.db')\n",
    "\n",
    "query = \"\"\"\n",
    "    SELECT Product_Name, SUM(Price * Quantity) AS total_sales\n",
    "    FROM sales_data\n",
    "    GROUP BY Product_Name\n",
    "\"\"\"\n",
    "product_sales = pd.read_sql(query, conn)\n",
    "print(product_sales)\n",
    "\n",
    "conn.close()\n"
   ]
  },
  {
   "cell_type": "code",
   "execution_count": 57,
   "id": "07689898-cdcd-4bc8-84a9-367f5926fe59",
   "metadata": {},
   "outputs": [
    {
     "name": "stdout",
     "output_type": "stream",
     "text": [
      "  Customer_Segment  total_sales\n",
      "0          Premium       182451\n",
      "1         Bireysel       131074\n",
      "2         Kurumsal       121593\n"
     ]
    }
   ],
   "source": [
    "conn = sqlite3.connect('sales_data.db')\n",
    "\n",
    "query = \"\"\"\n",
    "    SELECT Customer_Segment, SUM(Price * Quantity) AS total_sales\n",
    "    FROM sales_data\n",
    "    GROUP BY Customer_Segment\n",
    "    ORDER BY total_sales DESC;\n",
    "\"\"\"\n",
    "segment_sales = pd.read_sql(query, conn)\n",
    "print(segment_sales)\n",
    "\n",
    "conn.close()\n"
   ]
  },
  {
   "cell_type": "code",
   "execution_count": null,
   "id": "8fd2cd37-e52d-469b-9433-57e04ee4677f",
   "metadata": {},
   "outputs": [],
   "source": []
  }
 ],
 "metadata": {
  "kernelspec": {
   "display_name": "Python 3 (ipykernel)",
   "language": "python",
   "name": "python3"
  },
  "language_info": {
   "codemirror_mode": {
    "name": "ipython",
    "version": 3
   },
   "file_extension": ".py",
   "mimetype": "text/x-python",
   "name": "python",
   "nbconvert_exporter": "python",
   "pygments_lexer": "ipython3",
   "version": "3.11.7"
  }
 },
 "nbformat": 4,
 "nbformat_minor": 5
}
